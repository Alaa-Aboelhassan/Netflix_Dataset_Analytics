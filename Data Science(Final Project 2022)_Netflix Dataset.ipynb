{
 "cells": [
  {
   "cell_type": "markdown",
   "metadata": {},
   "source": [
    "\n",
    "# Data Science Project:clean ,visualize, make Desriptive Statistics,and also Answers of Questions about Data (Netflix Dataset)\n",
    "\n",
    "## Steps that  should follow\n",
    "<ul>\n",
    "<li><a href=\"#Dataset Information\">Dataset Information</a></li>\n",
    "<li><a href=\"#Gat\">Gathering</a></li>\n",
    "<li><a href=\"#Asse\">Assessing</a></li>\n",
    "<li><a href=\"#wrangling\">Data Wrangling</a></li>\n",
    "<li><a href=\"#eda\">Exploratory Data Analysis</a></li>\n",
    "<li><a href=\"#Comment\">Type Comment for Every Graph or Plot</a></li>\n",
    "<li><a href=\"#conclusions\">Conclusions</a></li>\n",
    "</ul>"
   ]
  },
  {
   "cell_type": "markdown",
   "metadata": {},
   "source": [
    "<a id='intro'></a>\n",
    "## Introduction\n",
    "\n",
    "> In this section of the report, provide a brief introduction to the dataset you've selected for analysis. At the end of this section, describe the questions that you plan on exploring over the course of the report. Try to build your report around the analysis of at least one dependent variable and three independent variables. If you're not sure what questions to ask, then make sure you familiarize yourself with the dataset, its variables and the dataset context for ideas of what to explore.\n"
   ]
  },
  {
   "cell_type": "code",
   "execution_count": 1,
   "metadata": {},
   "outputs": [],
   "source": [
    "import pandas as pd\n",
    "import numpy as np\n",
    "import matplotlib.pyplot as plt\n",
    "import seaborn as sns\n",
    "from sklearn import datasets\n",
    "from sklearn.model_selection import train_test_split\n",
    "from sklearn import linear_model\n",
    "from sklearn.metrics import classification_report"
   ]
  },
  {
   "cell_type": "markdown",
   "metadata": {},
   "source": [
    "<a id='Dataset Information'></a>\n",
    ">(Netflix Dataset)\n",
    "1. This data set contains information about 10,000 movies collected from The netflex Movie Database \n",
    "2. It's including object and float types of values \n",
    " 1. object data as \n",
    "   (original_title) it is containing the names of movies /  imdb_id / cast / director and  homepage it is containing the links of movies\n",
    " 2. And about float data like ratings and revenue.\n",
    "\n",
    "3. Certain columns, like ‘cast’ and ‘genres’, contain multiple values separated by pipe (|)characters."
   ]
  },
  {
   "cell_type": "markdown",
   "metadata": {},
   "source": [
    "### For the regression model \n",
    "###### the dependent variable is \n",
    ">revenue (y_response)\n",
    "###### independent variables are\n",
    ">popularity ,budget , vote count"
   ]
  },
  {
   "cell_type": "markdown",
   "metadata": {},
   "source": [
    "<a id='wrangling'></a>\n",
    "## Data Wrangling\n",
    "\n",
    ">  In this section of the report, you will load in the data, check for cleanliness, and then trim and clean your dataset for analysis. Make sure that you document your steps carefully and justify your cleaning decisions.\n",
    "\n",
    "### General Properties"
   ]
  },
  {
   "cell_type": "code",
   "execution_count": 2,
   "metadata": {},
   "outputs": [],
   "source": [
    "df=pd.read_csv('Netflix_data.csv')"
   ]
  },
  {
   "cell_type": "markdown",
   "metadata": {},
   "source": [
    "\n",
    "## Exploratory Data Set"
   ]
  },
  {
   "cell_type": "code",
   "execution_count": 3,
   "metadata": {},
   "outputs": [
    {
     "name": "stdout",
     "output_type": "stream",
     "text": [
      "<class 'pandas.core.frame.DataFrame'>\n",
      "RangeIndex: 10866 entries, 0 to 10865\n",
      "Data columns (total 21 columns):\n",
      " #   Column                Non-Null Count  Dtype  \n",
      "---  ------                --------------  -----  \n",
      " 0   id                    1000 non-null   float64\n",
      " 1   imdb_id               998 non-null    object \n",
      " 2   popularity            1000 non-null   float64\n",
      " 3   budget                997 non-null    float64\n",
      " 4   revenue               1000 non-null   float64\n",
      " 5   original_title        1000 non-null   object \n",
      " 6   cast                  992 non-null    object \n",
      " 7   homepage              397 non-null    object \n",
      " 8   director              997 non-null    object \n",
      " 9   tagline               731 non-null    object \n",
      " 10  keywords              805 non-null    object \n",
      " 11  overview              999 non-null    object \n",
      " 12  runtime               1000 non-null   float64\n",
      " 13  genres                997 non-null    object \n",
      " 14  production_companies  930 non-null    object \n",
      " 15  release_date          1000 non-null   object \n",
      " 16  vote_count            996 non-null    float64\n",
      " 17  vote_average          998 non-null    float64\n",
      " 18  release_year          1000 non-null   float64\n",
      " 19  budget_adj            999 non-null    float64\n",
      " 20  revenue_adj           998 non-null    float64\n",
      "dtypes: float64(10), object(11)\n",
      "memory usage: 1.7+ MB\n"
     ]
    }
   ],
   "source": [
    "df.info()"
   ]
  },
  {
   "cell_type": "code",
   "execution_count": 4,
   "metadata": {},
   "outputs": [
    {
     "data": {
      "text/html": [
       "<div>\n",
       "<style scoped>\n",
       "    .dataframe tbody tr th:only-of-type {\n",
       "        vertical-align: middle;\n",
       "    }\n",
       "\n",
       "    .dataframe tbody tr th {\n",
       "        vertical-align: top;\n",
       "    }\n",
       "\n",
       "    .dataframe thead th {\n",
       "        text-align: right;\n",
       "    }\n",
       "</style>\n",
       "<table border=\"1\" class=\"dataframe\">\n",
       "  <thead>\n",
       "    <tr style=\"text-align: right;\">\n",
       "      <th></th>\n",
       "      <th>id</th>\n",
       "      <th>popularity</th>\n",
       "      <th>budget</th>\n",
       "      <th>revenue</th>\n",
       "      <th>runtime</th>\n",
       "      <th>vote_count</th>\n",
       "      <th>vote_average</th>\n",
       "      <th>release_year</th>\n",
       "      <th>budget_adj</th>\n",
       "      <th>revenue_adj</th>\n",
       "    </tr>\n",
       "  </thead>\n",
       "  <tbody>\n",
       "    <tr>\n",
       "      <th>count</th>\n",
       "      <td>1000.000000</td>\n",
       "      <td>1000.000000</td>\n",
       "      <td>9.970000e+02</td>\n",
       "      <td>1.000000e+03</td>\n",
       "      <td>1000.000000</td>\n",
       "      <td>996.000000</td>\n",
       "      <td>998.000000</td>\n",
       "      <td>1000.000000</td>\n",
       "      <td>9.990000e+02</td>\n",
       "      <td>9.980000e+02</td>\n",
       "    </tr>\n",
       "    <tr>\n",
       "      <th>mean</th>\n",
       "      <td>269536.521000</td>\n",
       "      <td>1.209498</td>\n",
       "      <td>1.508424e+07</td>\n",
       "      <td>4.919896e+07</td>\n",
       "      <td>98.507000</td>\n",
       "      <td>371.839357</td>\n",
       "      <td>5.922545</td>\n",
       "      <td>2014.629000</td>\n",
       "      <td>1.388108e+07</td>\n",
       "      <td>4.507985e+07</td>\n",
       "    </tr>\n",
       "    <tr>\n",
       "      <th>std</th>\n",
       "      <td>68452.032477</td>\n",
       "      <td>2.227810</td>\n",
       "      <td>3.637372e+07</td>\n",
       "      <td>1.491661e+08</td>\n",
       "      <td>23.848243</td>\n",
       "      <td>769.723515</td>\n",
       "      <td>1.053705</td>\n",
       "      <td>0.483314</td>\n",
       "      <td>3.346940e+07</td>\n",
       "      <td>1.371911e+08</td>\n",
       "    </tr>\n",
       "    <tr>\n",
       "      <th>min</th>\n",
       "      <td>189.000000</td>\n",
       "      <td>0.003920</td>\n",
       "      <td>0.000000e+00</td>\n",
       "      <td>0.000000e+00</td>\n",
       "      <td>0.000000</td>\n",
       "      <td>10.000000</td>\n",
       "      <td>2.400000</td>\n",
       "      <td>2014.000000</td>\n",
       "      <td>0.000000e+00</td>\n",
       "      <td>0.000000e+00</td>\n",
       "    </tr>\n",
       "    <tr>\n",
       "      <th>25%</th>\n",
       "      <td>240281.750000</td>\n",
       "      <td>0.300295</td>\n",
       "      <td>0.000000e+00</td>\n",
       "      <td>0.000000e+00</td>\n",
       "      <td>89.000000</td>\n",
       "      <td>23.000000</td>\n",
       "      <td>5.300000</td>\n",
       "      <td>2014.000000</td>\n",
       "      <td>0.000000e+00</td>\n",
       "      <td>0.000000e+00</td>\n",
       "    </tr>\n",
       "    <tr>\n",
       "      <th>50%</th>\n",
       "      <td>279986.000000</td>\n",
       "      <td>0.535901</td>\n",
       "      <td>0.000000e+00</td>\n",
       "      <td>0.000000e+00</td>\n",
       "      <td>97.000000</td>\n",
       "      <td>75.000000</td>\n",
       "      <td>5.900000</td>\n",
       "      <td>2015.000000</td>\n",
       "      <td>0.000000e+00</td>\n",
       "      <td>0.000000e+00</td>\n",
       "    </tr>\n",
       "    <tr>\n",
       "      <th>75%</th>\n",
       "      <td>322094.500000</td>\n",
       "      <td>1.229218</td>\n",
       "      <td>1.100000e+07</td>\n",
       "      <td>1.564062e+07</td>\n",
       "      <td>109.000000</td>\n",
       "      <td>300.000000</td>\n",
       "      <td>6.700000</td>\n",
       "      <td>2015.000000</td>\n",
       "      <td>1.012000e+07</td>\n",
       "      <td>1.418953e+07</td>\n",
       "    </tr>\n",
       "    <tr>\n",
       "      <th>max</th>\n",
       "      <td>395883.000000</td>\n",
       "      <td>32.985763</td>\n",
       "      <td>2.800000e+08</td>\n",
       "      <td>1.513529e+09</td>\n",
       "      <td>300.000000</td>\n",
       "      <td>6498.000000</td>\n",
       "      <td>8.900000</td>\n",
       "      <td>2015.000000</td>\n",
       "      <td>2.575999e+08</td>\n",
       "      <td>1.392446e+09</td>\n",
       "    </tr>\n",
       "  </tbody>\n",
       "</table>\n",
       "</div>"
      ],
      "text/plain": [
       "                  id   popularity        budget       revenue      runtime  \\\n",
       "count    1000.000000  1000.000000  9.970000e+02  1.000000e+03  1000.000000   \n",
       "mean   269536.521000     1.209498  1.508424e+07  4.919896e+07    98.507000   \n",
       "std     68452.032477     2.227810  3.637372e+07  1.491661e+08    23.848243   \n",
       "min       189.000000     0.003920  0.000000e+00  0.000000e+00     0.000000   \n",
       "25%    240281.750000     0.300295  0.000000e+00  0.000000e+00    89.000000   \n",
       "50%    279986.000000     0.535901  0.000000e+00  0.000000e+00    97.000000   \n",
       "75%    322094.500000     1.229218  1.100000e+07  1.564062e+07   109.000000   \n",
       "max    395883.000000    32.985763  2.800000e+08  1.513529e+09   300.000000   \n",
       "\n",
       "        vote_count  vote_average  release_year    budget_adj   revenue_adj  \n",
       "count   996.000000    998.000000   1000.000000  9.990000e+02  9.980000e+02  \n",
       "mean    371.839357      5.922545   2014.629000  1.388108e+07  4.507985e+07  \n",
       "std     769.723515      1.053705      0.483314  3.346940e+07  1.371911e+08  \n",
       "min      10.000000      2.400000   2014.000000  0.000000e+00  0.000000e+00  \n",
       "25%      23.000000      5.300000   2014.000000  0.000000e+00  0.000000e+00  \n",
       "50%      75.000000      5.900000   2015.000000  0.000000e+00  0.000000e+00  \n",
       "75%     300.000000      6.700000   2015.000000  1.012000e+07  1.418953e+07  \n",
       "max    6498.000000      8.900000   2015.000000  2.575999e+08  1.392446e+09  "
      ]
     },
     "execution_count": 4,
     "metadata": {},
     "output_type": "execute_result"
    }
   ],
   "source": [
    "df.describe()"
   ]
  },
  {
   "cell_type": "code",
   "execution_count": 5,
   "metadata": {},
   "outputs": [
    {
     "data": {
      "text/plain": [
       "(10866, 21)"
      ]
     },
     "execution_count": 5,
     "metadata": {},
     "output_type": "execute_result"
    }
   ],
   "source": [
    "df.shape"
   ]
  },
  {
   "cell_type": "markdown",
   "metadata": {},
   "source": [
    ">so the dataset is consisting of 10866 rows and 21 columns dividing of 10 columns which are float and 11 columns of object\n",
    "\n"
   ]
  },
  {
   "cell_type": "markdown",
   "metadata": {},
   "source": [
    "## Cleaning the data  "
   ]
  },
  {
   "cell_type": "markdown",
   "metadata": {},
   "source": [
    ">check if their is any duplicated data"
   ]
  },
  {
   "cell_type": "code",
   "execution_count": 6,
   "metadata": {},
   "outputs": [
    {
     "data": {
      "text/plain": [
       "9869"
      ]
     },
     "execution_count": 6,
     "metadata": {},
     "output_type": "execute_result"
    }
   ],
   "source": [
    "df.duplicated().sum()"
   ]
  },
  {
   "cell_type": "code",
   "execution_count": 7,
   "metadata": {},
   "outputs": [],
   "source": [
    "df=df.drop_duplicates()"
   ]
  },
  {
   "cell_type": "code",
   "execution_count": 8,
   "metadata": {},
   "outputs": [
    {
     "data": {
      "text/plain": [
       "0"
      ]
     },
     "execution_count": 8,
     "metadata": {},
     "output_type": "execute_result"
    }
   ],
   "source": [
    "df.duplicated().sum()"
   ]
  },
  {
   "cell_type": "code",
   "execution_count": 9,
   "metadata": {},
   "outputs": [
    {
     "data": {
      "text/plain": [
       "(997, 21)"
      ]
     },
     "execution_count": 9,
     "metadata": {},
     "output_type": "execute_result"
    }
   ],
   "source": [
    "df.shape"
   ]
  },
  {
   "cell_type": "markdown",
   "metadata": {},
   "source": [
    "after founding 9869 values are dubicated and got ride of them the data become 994 rows & certainly the columns wasn't affected"
   ]
  },
  {
   "cell_type": "markdown",
   "metadata": {},
   "source": [
    ">what about missing values?"
   ]
  },
  {
   "cell_type": "code",
   "execution_count": 10,
   "metadata": {},
   "outputs": [
    {
     "data": {
      "text/plain": [
       "id                        1\n",
       "imdb_id                   3\n",
       "popularity                1\n",
       "budget                    4\n",
       "revenue                   1\n",
       "original_title            1\n",
       "cast                      9\n",
       "homepage                604\n",
       "director                  4\n",
       "tagline                 270\n",
       "keywords                196\n",
       "overview                  2\n",
       "runtime                   1\n",
       "genres                    4\n",
       "production_companies     71\n",
       "release_date              1\n",
       "vote_count                5\n",
       "vote_average              3\n",
       "release_year              1\n",
       "budget_adj                2\n",
       "revenue_adj               3\n",
       "dtype: int64"
      ]
     },
     "execution_count": 10,
     "metadata": {},
     "output_type": "execute_result"
    }
   ],
   "source": [
    "df.isna().sum()"
   ]
  },
  {
   "cell_type": "code",
   "execution_count": 11,
   "metadata": {},
   "outputs": [
    {
     "data": {
      "text/html": [
       "<div>\n",
       "<style scoped>\n",
       "    .dataframe tbody tr th:only-of-type {\n",
       "        vertical-align: middle;\n",
       "    }\n",
       "\n",
       "    .dataframe tbody tr th {\n",
       "        vertical-align: top;\n",
       "    }\n",
       "\n",
       "    .dataframe thead th {\n",
       "        text-align: right;\n",
       "    }\n",
       "</style>\n",
       "<table border=\"1\" class=\"dataframe\">\n",
       "  <thead>\n",
       "    <tr style=\"text-align: right;\">\n",
       "      <th></th>\n",
       "      <th>id</th>\n",
       "      <th>imdb_id</th>\n",
       "      <th>popularity</th>\n",
       "      <th>budget</th>\n",
       "      <th>revenue</th>\n",
       "      <th>original_title</th>\n",
       "      <th>cast</th>\n",
       "      <th>homepage</th>\n",
       "      <th>director</th>\n",
       "      <th>tagline</th>\n",
       "      <th>...</th>\n",
       "      <th>overview</th>\n",
       "      <th>runtime</th>\n",
       "      <th>genres</th>\n",
       "      <th>production_companies</th>\n",
       "      <th>release_date</th>\n",
       "      <th>vote_count</th>\n",
       "      <th>vote_average</th>\n",
       "      <th>release_year</th>\n",
       "      <th>budget_adj</th>\n",
       "      <th>revenue_adj</th>\n",
       "    </tr>\n",
       "  </thead>\n",
       "  <tbody>\n",
       "    <tr>\n",
       "      <th>1000</th>\n",
       "      <td>NaN</td>\n",
       "      <td>NaN</td>\n",
       "      <td>NaN</td>\n",
       "      <td>NaN</td>\n",
       "      <td>NaN</td>\n",
       "      <td>NaN</td>\n",
       "      <td>NaN</td>\n",
       "      <td>NaN</td>\n",
       "      <td>NaN</td>\n",
       "      <td>NaN</td>\n",
       "      <td>...</td>\n",
       "      <td>NaN</td>\n",
       "      <td>NaN</td>\n",
       "      <td>NaN</td>\n",
       "      <td>NaN</td>\n",
       "      <td>NaN</td>\n",
       "      <td>NaN</td>\n",
       "      <td>NaN</td>\n",
       "      <td>NaN</td>\n",
       "      <td>NaN</td>\n",
       "      <td>NaN</td>\n",
       "    </tr>\n",
       "  </tbody>\n",
       "</table>\n",
       "<p>1 rows × 21 columns</p>\n",
       "</div>"
      ],
      "text/plain": [
       "      id imdb_id  popularity  budget  revenue original_title cast homepage  \\\n",
       "1000 NaN     NaN         NaN     NaN      NaN            NaN  NaN      NaN   \n",
       "\n",
       "     director tagline  ... overview runtime  genres production_companies  \\\n",
       "1000      NaN     NaN  ...      NaN     NaN     NaN                  NaN   \n",
       "\n",
       "     release_date vote_count  vote_average  release_year  budget_adj  \\\n",
       "1000          NaN        NaN           NaN           NaN         NaN   \n",
       "\n",
       "      revenue_adj  \n",
       "1000          NaN  \n",
       "\n",
       "[1 rows x 21 columns]"
      ]
     },
     "execution_count": 11,
     "metadata": {},
     "output_type": "execute_result"
    }
   ],
   "source": [
    "df[df['id'].isna()]"
   ]
  },
  {
   "cell_type": "markdown",
   "metadata": {},
   "source": [
    "> As it's obvious this row doesn't matter in the data because all of the values are nan so we have to remove it"
   ]
  },
  {
   "cell_type": "code",
   "execution_count": 12,
   "metadata": {},
   "outputs": [],
   "source": [
    "df.dropna(subset=['id','imdb_id'],inplace=True)"
   ]
  },
  {
   "cell_type": "code",
   "execution_count": 13,
   "metadata": {},
   "outputs": [],
   "source": [
    "df['budget'].fillna(df['budget'].mean(),inplace=True)"
   ]
  },
  {
   "cell_type": "code",
   "execution_count": 14,
   "metadata": {},
   "outputs": [
    {
     "data": {
      "text/plain": [
       "Chris Pratt|Bryce Dallas Howard|Irrfan Khan|Vincent D'Onofrio|Nick Robinson    1\n",
       "Angelina Jolie|Elle Fanning|Juno Temple|Sharlto Copley|Isobelle Molloy         1\n",
       "Olivia Cooke|Ana Coto|Daren Kagasoff|Bianca A. Santos|Douglas Smith            1\n",
       "Jay Baruchel|Gerard Butler|Kristen Wiig|Jonah Hill|Cate Blanchett              1\n",
       "Maika Monroe|Keir Gilchrist|Olivia Luccardi|Lili Sepe|Bailey Spry              1\n",
       "                                                                              ..\n",
       "Luke Goss|Dolph Lundgren|Chuck Liddell|Noah Segan|Steven Luke                  1\n",
       "Munro Chambers|Laurence Leboeuf|Michael Ironside|Aaron Jeffery|Edwin Wright    1\n",
       "Kelly Sheridan|Jordyn Kane|Chiara Zanni|Bethany Brown|Michael Dobson           1\n",
       "Julie Benz|Carter Jenkins|Cesar Garcia|Mercy Malick|Lisa Pelikan               1\n",
       "Zoe Kazan|Jake Johnson|Ron Livingston|Danny Pudi|Sterling Beaumon              1\n",
       "Name: cast, Length: 986, dtype: int64"
      ]
     },
     "execution_count": 14,
     "metadata": {},
     "output_type": "execute_result"
    }
   ],
   "source": [
    "df['cast'].value_counts()"
   ]
  },
  {
   "cell_type": "code",
   "execution_count": 15,
   "metadata": {},
   "outputs": [],
   "source": [
    "df['cast'].replace(np.nan,'not available',inplace=True)"
   ]
  },
  {
   "cell_type": "code",
   "execution_count": 16,
   "metadata": {},
   "outputs": [],
   "source": [
    "df['homepage'].replace(np.nan,'not available',inplace=True)"
   ]
  },
  {
   "cell_type": "markdown",
   "metadata": {},
   "source": [
    "> I've fill the missing values in the (budget) column by it's mean , then I want to know if their are Repetition values in (cast) columns to fill the nan values by the most repeted value but I found that their is no any repeted cast so I've to fill it by 'not available' ,as (homepage) column"
   ]
  },
  {
   "cell_type": "code",
   "execution_count": 17,
   "metadata": {},
   "outputs": [
    {
     "data": {
      "text/html": [
       "<div>\n",
       "<style scoped>\n",
       "    .dataframe tbody tr th:only-of-type {\n",
       "        vertical-align: middle;\n",
       "    }\n",
       "\n",
       "    .dataframe tbody tr th {\n",
       "        vertical-align: top;\n",
       "    }\n",
       "\n",
       "    .dataframe thead th {\n",
       "        text-align: right;\n",
       "    }\n",
       "</style>\n",
       "<table border=\"1\" class=\"dataframe\">\n",
       "  <thead>\n",
       "    <tr style=\"text-align: right;\">\n",
       "      <th></th>\n",
       "      <th>id</th>\n",
       "      <th>imdb_id</th>\n",
       "      <th>popularity</th>\n",
       "      <th>budget</th>\n",
       "      <th>revenue</th>\n",
       "      <th>original_title</th>\n",
       "      <th>cast</th>\n",
       "      <th>homepage</th>\n",
       "      <th>director</th>\n",
       "      <th>tagline</th>\n",
       "      <th>...</th>\n",
       "      <th>overview</th>\n",
       "      <th>runtime</th>\n",
       "      <th>genres</th>\n",
       "      <th>production_companies</th>\n",
       "      <th>release_date</th>\n",
       "      <th>vote_count</th>\n",
       "      <th>vote_average</th>\n",
       "      <th>release_year</th>\n",
       "      <th>budget_adj</th>\n",
       "      <th>revenue_adj</th>\n",
       "    </tr>\n",
       "  </thead>\n",
       "  <tbody>\n",
       "    <tr>\n",
       "      <th>532</th>\n",
       "      <td>320996.0</td>\n",
       "      <td>tt4073952</td>\n",
       "      <td>0.126594</td>\n",
       "      <td>0.0</td>\n",
       "      <td>0.0</td>\n",
       "      <td>Iliza Shlesinger: Freezing Hot</td>\n",
       "      <td>Iliza Shlesinger</td>\n",
       "      <td>http://www.iliza.com/freezing-hot.html</td>\n",
       "      <td>NaN</td>\n",
       "      <td>NaN</td>\n",
       "      <td>...</td>\n",
       "      <td>Smart and brazen comedian Iliza Shlesinger sha...</td>\n",
       "      <td>71.0</td>\n",
       "      <td>Comedy</td>\n",
       "      <td>New Wave Entertainment</td>\n",
       "      <td>1/23/2015</td>\n",
       "      <td>14.0</td>\n",
       "      <td>6.6</td>\n",
       "      <td>2015.0</td>\n",
       "      <td>0.0</td>\n",
       "      <td>0.0</td>\n",
       "    </tr>\n",
       "    <tr>\n",
       "      <th>556</th>\n",
       "      <td>321160.0</td>\n",
       "      <td>tt3908634</td>\n",
       "      <td>0.100910</td>\n",
       "      <td>0.0</td>\n",
       "      <td>0.0</td>\n",
       "      <td>With This Ring</td>\n",
       "      <td>Regina Hall|Jill Scott|Eve|Brooklyn Sudano|Dei...</td>\n",
       "      <td>http://www.mylifetime.com/movies/with-this-ring</td>\n",
       "      <td>NaN</td>\n",
       "      <td>NaN</td>\n",
       "      <td>...</td>\n",
       "      <td>After attending their friend Elise's (Sudano) ...</td>\n",
       "      <td>105.0</td>\n",
       "      <td>Comedy|Romance</td>\n",
       "      <td>Lifetime Television|Sony Pictures Television</td>\n",
       "      <td>1/24/2015</td>\n",
       "      <td>14.0</td>\n",
       "      <td>6.5</td>\n",
       "      <td>2015.0</td>\n",
       "      <td>0.0</td>\n",
       "      <td>0.0</td>\n",
       "    </tr>\n",
       "  </tbody>\n",
       "</table>\n",
       "<p>2 rows × 21 columns</p>\n",
       "</div>"
      ],
      "text/plain": [
       "           id    imdb_id  popularity  budget  revenue  \\\n",
       "532  320996.0  tt4073952    0.126594     0.0      0.0   \n",
       "556  321160.0  tt3908634    0.100910     0.0      0.0   \n",
       "\n",
       "                     original_title  \\\n",
       "532  Iliza Shlesinger: Freezing Hot   \n",
       "556                  With This Ring   \n",
       "\n",
       "                                                  cast  \\\n",
       "532                                   Iliza Shlesinger   \n",
       "556  Regina Hall|Jill Scott|Eve|Brooklyn Sudano|Dei...   \n",
       "\n",
       "                                            homepage director tagline  ...  \\\n",
       "532           http://www.iliza.com/freezing-hot.html      NaN     NaN  ...   \n",
       "556  http://www.mylifetime.com/movies/with-this-ring      NaN     NaN  ...   \n",
       "\n",
       "                                              overview runtime  \\\n",
       "532  Smart and brazen comedian Iliza Shlesinger sha...    71.0   \n",
       "556  After attending their friend Elise's (Sudano) ...   105.0   \n",
       "\n",
       "             genres                          production_companies  \\\n",
       "532          Comedy                        New Wave Entertainment   \n",
       "556  Comedy|Romance  Lifetime Television|Sony Pictures Television   \n",
       "\n",
       "    release_date vote_count  vote_average  release_year  budget_adj  \\\n",
       "532    1/23/2015       14.0           6.6        2015.0         0.0   \n",
       "556    1/24/2015       14.0           6.5        2015.0         0.0   \n",
       "\n",
       "     revenue_adj  \n",
       "532          0.0  \n",
       "556          0.0  \n",
       "\n",
       "[2 rows x 21 columns]"
      ]
     },
     "execution_count": 17,
     "metadata": {},
     "output_type": "execute_result"
    }
   ],
   "source": [
    "df[df['director'].isna()]"
   ]
  },
  {
   "cell_type": "code",
   "execution_count": 18,
   "metadata": {},
   "outputs": [],
   "source": [
    "df['director'].replace(np.nan,'Ryan Polito',inplace=True)"
   ]
  },
  {
   "cell_type": "markdown",
   "metadata": {},
   "source": [
    ">I made a dataset for the nan values in the (director) column to know they belong to which movie name then I searched for the director of them and fill the missing values with it,"
   ]
  },
  {
   "cell_type": "code",
   "execution_count": 19,
   "metadata": {},
   "outputs": [],
   "source": [
    "df['tagline'].replace(np.nan,'not available',inplace=True)"
   ]
  },
  {
   "cell_type": "code",
   "execution_count": 20,
   "metadata": {},
   "outputs": [],
   "source": [
    "df['keywords'].replace(np.nan,'not available',inplace=True)"
   ]
  },
  {
   "cell_type": "code",
   "execution_count": 21,
   "metadata": {},
   "outputs": [],
   "source": [
    "df['production_companies'].replace(np.nan,'unknown',inplace=True)"
   ]
  },
  {
   "cell_type": "code",
   "execution_count": 22,
   "metadata": {},
   "outputs": [
    {
     "data": {
      "text/plain": [
       "Drama                                      102\n",
       "Comedy                                      63\n",
       "Horror                                      42\n",
       "Documentary                                 40\n",
       "Drama|Comedy                                27\n",
       "                                          ... \n",
       "TV Movie|Action|Science Fiction              1\n",
       "Science Fiction|Drama|Family                 1\n",
       "Adventure|Action|Comedy|Science Fiction      1\n",
       "Animation|Music|Family                       1\n",
       "Science Fiction|Adventure|Comedy             1\n",
       "Name: genres, Length: 376, dtype: int64"
      ]
     },
     "execution_count": 22,
     "metadata": {},
     "output_type": "execute_result"
    }
   ],
   "source": [
    "df['genres'].value_counts()"
   ]
  },
  {
   "cell_type": "code",
   "execution_count": 23,
   "metadata": {},
   "outputs": [],
   "source": [
    "df['genres'].replace(np.nan,'Drama',inplace=True)"
   ]
  },
  {
   "cell_type": "code",
   "execution_count": 24,
   "metadata": {},
   "outputs": [
    {
     "data": {
      "text/plain": [
       "11.0     31\n",
       "14.0     27\n",
       "10.0     24\n",
       "13.0     21\n",
       "12.0     20\n",
       "         ..\n",
       "310.0     1\n",
       "259.0     1\n",
       "408.0     1\n",
       "610.0     1\n",
       "405.0     1\n",
       "Name: vote_count, Length: 437, dtype: int64"
      ]
     },
     "execution_count": 24,
     "metadata": {},
     "output_type": "execute_result"
    }
   ],
   "source": [
    "df['vote_count'].value_counts()"
   ]
  },
  {
   "cell_type": "code",
   "execution_count": 25,
   "metadata": {},
   "outputs": [],
   "source": [
    "df['vote_count'].replace(np.nan,11.0,inplace=True)"
   ]
  },
  {
   "cell_type": "markdown",
   "metadata": {},
   "source": [
    ">by value_counts() function we have known that the most type of movies in this data is the drama movies so it's suitabe for the missing values in (generes) column , and by the same way we could fill the nan values in (vote_count) column "
   ]
  },
  {
   "cell_type": "code",
   "execution_count": 26,
   "metadata": {},
   "outputs": [],
   "source": [
    "df['vote_average'].fillna(df['vote_average'].mean(),inplace=True)"
   ]
  },
  {
   "cell_type": "code",
   "execution_count": 27,
   "metadata": {},
   "outputs": [
    {
     "data": {
      "text/html": [
       "<div>\n",
       "<style scoped>\n",
       "    .dataframe tbody tr th:only-of-type {\n",
       "        vertical-align: middle;\n",
       "    }\n",
       "\n",
       "    .dataframe tbody tr th {\n",
       "        vertical-align: top;\n",
       "    }\n",
       "\n",
       "    .dataframe thead th {\n",
       "        text-align: right;\n",
       "    }\n",
       "</style>\n",
       "<table border=\"1\" class=\"dataframe\">\n",
       "  <thead>\n",
       "    <tr style=\"text-align: right;\">\n",
       "      <th></th>\n",
       "      <th>id</th>\n",
       "      <th>imdb_id</th>\n",
       "      <th>popularity</th>\n",
       "      <th>budget</th>\n",
       "      <th>revenue</th>\n",
       "      <th>original_title</th>\n",
       "      <th>cast</th>\n",
       "      <th>homepage</th>\n",
       "      <th>director</th>\n",
       "      <th>tagline</th>\n",
       "      <th>...</th>\n",
       "      <th>overview</th>\n",
       "      <th>runtime</th>\n",
       "      <th>genres</th>\n",
       "      <th>production_companies</th>\n",
       "      <th>release_date</th>\n",
       "      <th>vote_count</th>\n",
       "      <th>vote_average</th>\n",
       "      <th>release_year</th>\n",
       "      <th>budget_adj</th>\n",
       "      <th>revenue_adj</th>\n",
       "    </tr>\n",
       "  </thead>\n",
       "  <tbody>\n",
       "    <tr>\n",
       "      <th>25</th>\n",
       "      <td>177677.0</td>\n",
       "      <td>tt2381249</td>\n",
       "      <td>4.566713</td>\n",
       "      <td>150000000.0</td>\n",
       "      <td>682330139.0</td>\n",
       "      <td>Mission: Impossible - Rogue Nation</td>\n",
       "      <td>Tom Cruise|Jeremy Renner|Simon Pegg|Rebecca Fe...</td>\n",
       "      <td>http://www.missionimpossible.com</td>\n",
       "      <td>Christopher McQuarrie</td>\n",
       "      <td>Desperate Times. Desperate Measures.</td>\n",
       "      <td>...</td>\n",
       "      <td>Ethan and team take on their most impossible m...</td>\n",
       "      <td>131.0</td>\n",
       "      <td>Action</td>\n",
       "      <td>Paramount Pictures|Skydance Productions|China ...</td>\n",
       "      <td>7/23/2015</td>\n",
       "      <td>2349.0</td>\n",
       "      <td>7.1</td>\n",
       "      <td>2015.0</td>\n",
       "      <td>NaN</td>\n",
       "      <td>627743451.7</td>\n",
       "    </tr>\n",
       "  </tbody>\n",
       "</table>\n",
       "<p>1 rows × 21 columns</p>\n",
       "</div>"
      ],
      "text/plain": [
       "          id    imdb_id  popularity       budget      revenue  \\\n",
       "25  177677.0  tt2381249    4.566713  150000000.0  682330139.0   \n",
       "\n",
       "                        original_title  \\\n",
       "25  Mission: Impossible - Rogue Nation   \n",
       "\n",
       "                                                 cast  \\\n",
       "25  Tom Cruise|Jeremy Renner|Simon Pegg|Rebecca Fe...   \n",
       "\n",
       "                            homepage               director  \\\n",
       "25  http://www.missionimpossible.com  Christopher McQuarrie   \n",
       "\n",
       "                                 tagline  ...  \\\n",
       "25  Desperate Times. Desperate Measures.  ...   \n",
       "\n",
       "                                             overview runtime  genres  \\\n",
       "25  Ethan and team take on their most impossible m...   131.0  Action   \n",
       "\n",
       "                                 production_companies release_date vote_count  \\\n",
       "25  Paramount Pictures|Skydance Productions|China ...    7/23/2015     2349.0   \n",
       "\n",
       "    vote_average  release_year  budget_adj  revenue_adj  \n",
       "25           7.1        2015.0         NaN  627743451.7  \n",
       "\n",
       "[1 rows x 21 columns]"
      ]
     },
     "execution_count": 27,
     "metadata": {},
     "output_type": "execute_result"
    }
   ],
   "source": [
    "df[df['budget_adj'].isna()]"
   ]
  },
  {
   "cell_type": "code",
   "execution_count": 28,
   "metadata": {},
   "outputs": [
    {
     "data": {
      "text/plain": [
       "0     137999939.3\n",
       "1     137999939.3\n",
       "25            NaN\n",
       "73    137999939.3\n",
       "Name: budget_adj, dtype: float64"
      ]
     },
     "execution_count": 28,
     "metadata": {},
     "output_type": "execute_result"
    }
   ],
   "source": [
    "df[df['budget']==150000000.0]['budget_adj']"
   ]
  },
  {
   "cell_type": "code",
   "execution_count": 29,
   "metadata": {},
   "outputs": [],
   "source": [
    "df['budget_adj'].replace(np.nan,'137999939.3',inplace=True)"
   ]
  },
  {
   "cell_type": "markdown",
   "metadata": {},
   "source": [
    ">from the dataset of null values of (budget_adj) , I found the budget of this row is 150000000.0 so I want to know if the budget_adj is same at the specified value and found it equal to 137999939.3 so I fill the null vaue with it"
   ]
  },
  {
   "cell_type": "code",
   "execution_count": 30,
   "metadata": {},
   "outputs": [
    {
     "data": {
      "text/html": [
       "<div>\n",
       "<style scoped>\n",
       "    .dataframe tbody tr th:only-of-type {\n",
       "        vertical-align: middle;\n",
       "    }\n",
       "\n",
       "    .dataframe tbody tr th {\n",
       "        vertical-align: top;\n",
       "    }\n",
       "\n",
       "    .dataframe thead th {\n",
       "        text-align: right;\n",
       "    }\n",
       "</style>\n",
       "<table border=\"1\" class=\"dataframe\">\n",
       "  <thead>\n",
       "    <tr style=\"text-align: right;\">\n",
       "      <th></th>\n",
       "      <th>id</th>\n",
       "      <th>imdb_id</th>\n",
       "      <th>popularity</th>\n",
       "      <th>budget</th>\n",
       "      <th>revenue</th>\n",
       "      <th>original_title</th>\n",
       "      <th>cast</th>\n",
       "      <th>homepage</th>\n",
       "      <th>director</th>\n",
       "      <th>tagline</th>\n",
       "      <th>...</th>\n",
       "      <th>overview</th>\n",
       "      <th>runtime</th>\n",
       "      <th>genres</th>\n",
       "      <th>production_companies</th>\n",
       "      <th>release_date</th>\n",
       "      <th>vote_count</th>\n",
       "      <th>vote_average</th>\n",
       "      <th>release_year</th>\n",
       "      <th>budget_adj</th>\n",
       "      <th>revenue_adj</th>\n",
       "    </tr>\n",
       "  </thead>\n",
       "  <tbody>\n",
       "    <tr>\n",
       "      <th>16</th>\n",
       "      <td>260346.0</td>\n",
       "      <td>tt2446042</td>\n",
       "      <td>5.749758</td>\n",
       "      <td>4.800000e+07</td>\n",
       "      <td>325771424.0</td>\n",
       "      <td>Taken 3</td>\n",
       "      <td>Liam Neeson|Forest Whitaker|Maggie Grace|Famke...</td>\n",
       "      <td>http://www.taken3movie.com/</td>\n",
       "      <td>Olivier Megaton</td>\n",
       "      <td>It Ends Here</td>\n",
       "      <td>...</td>\n",
       "      <td>Ex-government operative Bryan Mills finds his ...</td>\n",
       "      <td>109.0</td>\n",
       "      <td>Crime|Action|Thriller</td>\n",
       "      <td>Twentieth Century Fox Film Corporation|M6 Film...</td>\n",
       "      <td>1/1/2015</td>\n",
       "      <td>1578.0</td>\n",
       "      <td>6.1</td>\n",
       "      <td>2015.0</td>\n",
       "      <td>44159980.57</td>\n",
       "      <td>NaN</td>\n",
       "    </tr>\n",
       "    <tr>\n",
       "      <th>109</th>\n",
       "      <td>336004.0</td>\n",
       "      <td>tt3276924</td>\n",
       "      <td>1.449072</td>\n",
       "      <td>1.498586e+07</td>\n",
       "      <td>50136.0</td>\n",
       "      <td>Heist</td>\n",
       "      <td>Jeffrey Dean Morgan|Robert De Niro|Kate Boswor...</td>\n",
       "      <td>not available</td>\n",
       "      <td>Scott Mann</td>\n",
       "      <td>Never make a bet you can't afford to lose.</td>\n",
       "      <td>...</td>\n",
       "      <td>A father is without the means to pay for his d...</td>\n",
       "      <td>93.0</td>\n",
       "      <td>Crime|Action|Thriller</td>\n",
       "      <td>Emmett/Furla Films|Silver Plane Films|Mass Hys...</td>\n",
       "      <td>11/13/2015</td>\n",
       "      <td>233.0</td>\n",
       "      <td>5.4</td>\n",
       "      <td>2015.0</td>\n",
       "      <td>8187996.397</td>\n",
       "      <td>NaN</td>\n",
       "    </tr>\n",
       "  </tbody>\n",
       "</table>\n",
       "<p>2 rows × 21 columns</p>\n",
       "</div>"
      ],
      "text/plain": [
       "           id    imdb_id  popularity        budget      revenue  \\\n",
       "16   260346.0  tt2446042    5.749758  4.800000e+07  325771424.0   \n",
       "109  336004.0  tt3276924    1.449072  1.498586e+07      50136.0   \n",
       "\n",
       "    original_title                                               cast  \\\n",
       "16         Taken 3  Liam Neeson|Forest Whitaker|Maggie Grace|Famke...   \n",
       "109          Heist  Jeffrey Dean Morgan|Robert De Niro|Kate Boswor...   \n",
       "\n",
       "                        homepage         director  \\\n",
       "16   http://www.taken3movie.com/  Olivier Megaton   \n",
       "109                not available       Scott Mann   \n",
       "\n",
       "                                        tagline  ...  \\\n",
       "16                                 It Ends Here  ...   \n",
       "109  Never make a bet you can't afford to lose.  ...   \n",
       "\n",
       "                                              overview runtime  \\\n",
       "16   Ex-government operative Bryan Mills finds his ...   109.0   \n",
       "109  A father is without the means to pay for his d...    93.0   \n",
       "\n",
       "                    genres                               production_companies  \\\n",
       "16   Crime|Action|Thriller  Twentieth Century Fox Film Corporation|M6 Film...   \n",
       "109  Crime|Action|Thriller  Emmett/Furla Films|Silver Plane Films|Mass Hys...   \n",
       "\n",
       "    release_date vote_count  vote_average  release_year   budget_adj  \\\n",
       "16      1/1/2015     1578.0           6.1        2015.0  44159980.57   \n",
       "109   11/13/2015      233.0           5.4        2015.0  8187996.397   \n",
       "\n",
       "    revenue_adj  \n",
       "16          NaN  \n",
       "109         NaN  \n",
       "\n",
       "[2 rows x 21 columns]"
      ]
     },
     "execution_count": 30,
     "metadata": {},
     "output_type": "execute_result"
    }
   ],
   "source": [
    "df[df['revenue_adj'].isna()] "
   ]
  },
  {
   "cell_type": "code",
   "execution_count": 31,
   "metadata": {},
   "outputs": [],
   "source": [
    "df['revenue_adj'].fillna(df['revenue_adj'].mean(),inplace=True)"
   ]
  },
  {
   "cell_type": "code",
   "execution_count": 32,
   "metadata": {},
   "outputs": [
    {
     "data": {
      "text/plain": [
       "id                      0\n",
       "imdb_id                 0\n",
       "popularity              0\n",
       "budget                  0\n",
       "revenue                 0\n",
       "original_title          0\n",
       "cast                    0\n",
       "homepage                0\n",
       "director                0\n",
       "tagline                 0\n",
       "keywords                0\n",
       "overview                0\n",
       "runtime                 0\n",
       "genres                  0\n",
       "production_companies    0\n",
       "release_date            0\n",
       "vote_count              0\n",
       "vote_average            0\n",
       "release_year            0\n",
       "budget_adj              0\n",
       "revenue_adj             0\n",
       "dtype: int64"
      ]
     },
     "execution_count": 32,
     "metadata": {},
     "output_type": "execute_result"
    }
   ],
   "source": [
    "df.isna().sum()"
   ]
  },
  {
   "cell_type": "markdown",
   "metadata": {},
   "source": [
    "> check if their is outliers"
   ]
  },
  {
   "cell_type": "code",
   "execution_count": 33,
   "metadata": {},
   "outputs": [
    {
     "data": {
      "text/plain": [
       "<AxesSubplot:>"
      ]
     },
     "execution_count": 33,
     "metadata": {},
     "output_type": "execute_result"
    },
    {
     "data": {
      "image/png": "[encoded data removed]",
      "text/plain": [
       "<Figure size 720x504 with 1 Axes>"
      ]
     },
     "metadata": {
      "needs_background": "light"
     },
     "output_type": "display_data"
    }
   ],
   "source": [
    "plt.figure(figsize=(10,7))\n",
    "sns.boxplot(data=df, color='c')"
   ]
  },
  {
   "cell_type": "code",
   "execution_count": 34,
   "metadata": {},
   "outputs": [],
   "source": [
    "Q1_budget= df['budget'].quantile(0.25)\n",
    "Q3_budget= df['budget'].quantile(0.75)"
   ]
  },
  {
   "cell_type": "code",
   "execution_count": 35,
   "metadata": {},
   "outputs": [],
   "source": [
    "rbudget= Q3_budget-Q1_budget"
   ]
  },
  {
   "cell_type": "code",
   "execution_count": 36,
   "metadata": {},
   "outputs": [],
   "source": [
    "maxB = Q3_budget+(1.5*rbudget)\n",
    "minB = Q1_budget-(1.5*rbudget)"
   ]
  },
  {
   "cell_type": "code",
   "execution_count": 37,
   "metadata": {},
   "outputs": [],
   "source": [
    "for x in ['budget']:\n",
    "    df.loc[df[x] < minB,x] = df['budget'].mean()\n",
    "    df.loc[df[x] > maxB,x] = df['budget'].mean()"
   ]
  },
  {
   "cell_type": "code",
   "execution_count": 38,
   "metadata": {},
   "outputs": [],
   "source": [
    "Q1_revenue = df['revenue'].quantile(0.25)\n",
    "Q3_revenue= df['revenue'].quantile(0.75)"
   ]
  },
  {
   "cell_type": "code",
   "execution_count": 39,
   "metadata": {},
   "outputs": [],
   "source": [
    "rrevenue= Q3_revenue-Q1_revenue"
   ]
  },
  {
   "cell_type": "code",
   "execution_count": 40,
   "metadata": {},
   "outputs": [],
   "source": [
    "maxR = Q3_revenue+(1.5*rrevenue)\n",
    "minR = Q1_revenue-(1.5*rrevenue)"
   ]
  },
  {
   "cell_type": "code",
   "execution_count": 41,
   "metadata": {},
   "outputs": [],
   "source": [
    "for x in ['revenue']:\n",
    "    df.loc[df[x] < minR,x] = df['revenue'].mean()\n",
    "    df.loc[df[x] > maxR,x] = df['revenue'].mean()"
   ]
  },
  {
   "cell_type": "code",
   "execution_count": 42,
   "metadata": {},
   "outputs": [],
   "source": [
    "Q1_revenue_adj = df['revenue_adj'].quantile(0.25)\n",
    "Q3_revenue_adj= df['revenue_adj'].quantile(0.75)"
   ]
  },
  {
   "cell_type": "code",
   "execution_count": 43,
   "metadata": {},
   "outputs": [],
   "source": [
    "rrevenue_adj= Q3_revenue_adj-Q1_revenue_adj"
   ]
  },
  {
   "cell_type": "code",
   "execution_count": 44,
   "metadata": {},
   "outputs": [],
   "source": [
    "maxA = Q3_revenue_adj+(1.5*rrevenue_adj)\n",
    "minA = Q1_revenue_adj-(1.5*rrevenue_adj)"
   ]
  },
  {
   "cell_type": "code",
   "execution_count": 45,
   "metadata": {},
   "outputs": [],
   "source": [
    "for x in ['revenue_adj']:\n",
    "    df.loc[df[x] < minA,x] = df['revenue_adj'].mean()\n",
    "    df.loc[df[x] > maxA,x] = df['revenue_adj'].mean()"
   ]
  },
  {
   "cell_type": "code",
   "execution_count": 46,
   "metadata": {},
   "outputs": [
    {
     "data": {
      "text/plain": [
       "<AxesSubplot:>"
      ]
     },
     "execution_count": 46,
     "metadata": {},
     "output_type": "execute_result"
    },
    {
     "data": {
      "image/png": "[encoded data removed]",
      "text/plain": [
       "<Figure size 720x504 with 1 Axes>"
      ]
     },
     "metadata": {
      "needs_background": "light"
     },
     "output_type": "display_data"
    }
   ],
   "source": [
    "plt.figure(figsize=(10,7))\n",
    "sns.boxplot(data=df, color='c')"
   ]
  },
  {
   "cell_type": "markdown",
   "metadata": {},
   "source": [
    ">>Finally it's clean"
   ]
  },
  {
   "cell_type": "markdown",
   "metadata": {},
   "source": [
    "> **Note that**: You should _not_ perform too many operations in each cell. Create cells freely to explore your data. One option that you can take with this project is to do a lot of explorations in an initial notebook. These don't have to be organized, but make sure you use enough comments to understand the purpose of each code cell. \n",
    "\n",
    "> Make sure that you keep your reader informed on the steps that you are taking in your Analysis and Visualization. \n",
    "### Data Cleaning (Replace this with more specific notes!)"
   ]
  },
  {
   "cell_type": "markdown",
   "metadata": {
    "collapsed": true
   },
   "source": [
    ">first of all I've checked if their is any dublicates data and then I deleted them"
   ]
  },
  {
   "cell_type": "markdown",
   "metadata": {},
   "source": [
    ">secondly I found many missing values and worked on it by deleting , filling & replacing any nan values "
   ]
  },
  {
   "cell_type": "markdown",
   "metadata": {},
   "source": [
    ">finally I checked again that their is nothing of the missing values and the data became cleaned "
   ]
  },
  {
   "cell_type": "markdown",
   "metadata": {},
   "source": [
    "<a id='eda'></a>\n",
    "## Exploratory Data Analysis\n",
    "\n",
    ">  Now that you've cleaned your data, you're ready to move on to exploration. Compute statistics and create visualizations with the goal of addressing the research questions that you posed in the Introduction section , and then follow it up by looking at relationships between variables.\n",
    "\n",
    "### Research Question 1 (Which genres are most popular from year to year?)"
   ]
  },
  {
   "cell_type": "code",
   "execution_count": 47,
   "metadata": {},
   "outputs": [
    {
     "data": {
      "text/plain": [
       "Drama                                      104\n",
       "Comedy                                      63\n",
       "Horror                                      42\n",
       "Documentary                                 40\n",
       "Drama|Comedy                                27\n",
       "                                          ... \n",
       "TV Movie|Action|Science Fiction              1\n",
       "Science Fiction|Drama|Family                 1\n",
       "Adventure|Action|Comedy|Science Fiction      1\n",
       "Animation|Music|Family                       1\n",
       "Science Fiction|Adventure|Comedy             1\n",
       "Name: genres, Length: 376, dtype: int64"
      ]
     },
     "execution_count": 47,
     "metadata": {},
     "output_type": "execute_result"
    }
   ],
   "source": [
    "df['genres'].value_counts()"
   ]
  },
  {
   "cell_type": "markdown",
   "metadata": {},
   "source": [
    "> Drama movies is the most popular type"
   ]
  },
  {
   "cell_type": "markdown",
   "metadata": {},
   "source": [
    "### Research Question 2  (What kinds of properties are associated with movies that have high revenues?)"
   ]
  },
  {
   "cell_type": "code",
   "execution_count": 48,
   "metadata": {},
   "outputs": [
    {
     "data": {
      "text/plain": [
       "48934493.22032193"
      ]
     },
     "execution_count": 48,
     "metadata": {},
     "output_type": "execute_result"
    }
   ],
   "source": [
    "np.max(df['revenue'])"
   ]
  },
  {
   "cell_type": "code",
   "execution_count": 49,
   "metadata": {},
   "outputs": [
    {
     "data": {
      "text/html": [
       "<div>\n",
       "<style scoped>\n",
       "    .dataframe tbody tr th:only-of-type {\n",
       "        vertical-align: middle;\n",
       "    }\n",
       "\n",
       "    .dataframe tbody tr th {\n",
       "        vertical-align: top;\n",
       "    }\n",
       "\n",
       "    .dataframe thead th {\n",
       "        text-align: right;\n",
       "    }\n",
       "</style>\n",
       "<table border=\"1\" class=\"dataframe\">\n",
       "  <thead>\n",
       "    <tr style=\"text-align: right;\">\n",
       "      <th></th>\n",
       "      <th>id</th>\n",
       "      <th>imdb_id</th>\n",
       "      <th>popularity</th>\n",
       "      <th>budget</th>\n",
       "      <th>revenue</th>\n",
       "      <th>original_title</th>\n",
       "      <th>cast</th>\n",
       "      <th>homepage</th>\n",
       "      <th>director</th>\n",
       "      <th>tagline</th>\n",
       "      <th>...</th>\n",
       "      <th>overview</th>\n",
       "      <th>runtime</th>\n",
       "      <th>genres</th>\n",
       "      <th>production_companies</th>\n",
       "      <th>release_date</th>\n",
       "      <th>vote_count</th>\n",
       "      <th>vote_average</th>\n",
       "      <th>release_year</th>\n",
       "      <th>budget_adj</th>\n",
       "      <th>revenue_adj</th>\n",
       "    </tr>\n",
       "  </thead>\n",
       "  <tbody>\n",
       "    <tr>\n",
       "      <th>733</th>\n",
       "      <td>87093.0</td>\n",
       "      <td>tt1126590</td>\n",
       "      <td>1.398713</td>\n",
       "      <td>10000000.0</td>\n",
       "      <td>28883511.0</td>\n",
       "      <td>Big Eyes</td>\n",
       "      <td>Amy Adams|Christoph Waltz|Krysten Ritter|Danny...</td>\n",
       "      <td>not available</td>\n",
       "      <td>Tim Burton</td>\n",
       "      <td>She created it. He sold it. And they bought it.</td>\n",
       "      <td>...</td>\n",
       "      <td>A drama centered on the awakening of the paint...</td>\n",
       "      <td>105.0</td>\n",
       "      <td>Drama</td>\n",
       "      <td>The Weinstein Company|Silverwood Films|Electri...</td>\n",
       "      <td>12/24/2014</td>\n",
       "      <td>710.0</td>\n",
       "      <td>6.8</td>\n",
       "      <td>2014.0</td>\n",
       "      <td>9210910.508</td>\n",
       "      <td>26604343.5</td>\n",
       "    </tr>\n",
       "  </tbody>\n",
       "</table>\n",
       "<p>1 rows × 21 columns</p>\n",
       "</div>"
      ],
      "text/plain": [
       "          id    imdb_id  popularity      budget     revenue original_title  \\\n",
       "733  87093.0  tt1126590    1.398713  10000000.0  28883511.0       Big Eyes   \n",
       "\n",
       "                                                  cast       homepage  \\\n",
       "733  Amy Adams|Christoph Waltz|Krysten Ritter|Danny...  not available   \n",
       "\n",
       "       director                                          tagline  ...  \\\n",
       "733  Tim Burton  She created it. He sold it. And they bought it.  ...   \n",
       "\n",
       "                                              overview runtime  genres  \\\n",
       "733  A drama centered on the awakening of the paint...   105.0   Drama   \n",
       "\n",
       "                                  production_companies release_date  \\\n",
       "733  The Weinstein Company|Silverwood Films|Electri...   12/24/2014   \n",
       "\n",
       "    vote_count  vote_average  release_year   budget_adj revenue_adj  \n",
       "733      710.0           6.8        2014.0  9210910.508  26604343.5  \n",
       "\n",
       "[1 rows x 21 columns]"
      ]
     },
     "execution_count": 49,
     "metadata": {},
     "output_type": "execute_result"
    }
   ],
   "source": [
    "df[df['revenue']==28883511.0]"
   ]
  },
  {
   "cell_type": "code",
   "execution_count": 50,
   "metadata": {},
   "outputs": [
    {
     "data": {
      "text/html": [
       "<div>\n",
       "<style scoped>\n",
       "    .dataframe tbody tr th:only-of-type {\n",
       "        vertical-align: middle;\n",
       "    }\n",
       "\n",
       "    .dataframe tbody tr th {\n",
       "        vertical-align: top;\n",
       "    }\n",
       "\n",
       "    .dataframe thead th {\n",
       "        text-align: right;\n",
       "    }\n",
       "</style>\n",
       "<table border=\"1\" class=\"dataframe\">\n",
       "  <thead>\n",
       "    <tr style=\"text-align: right;\">\n",
       "      <th></th>\n",
       "      <th>id</th>\n",
       "      <th>imdb_id</th>\n",
       "      <th>popularity</th>\n",
       "      <th>budget</th>\n",
       "      <th>revenue</th>\n",
       "      <th>original_title</th>\n",
       "      <th>cast</th>\n",
       "      <th>homepage</th>\n",
       "      <th>director</th>\n",
       "      <th>tagline</th>\n",
       "      <th>...</th>\n",
       "      <th>overview</th>\n",
       "      <th>runtime</th>\n",
       "      <th>genres</th>\n",
       "      <th>production_companies</th>\n",
       "      <th>release_date</th>\n",
       "      <th>vote_count</th>\n",
       "      <th>vote_average</th>\n",
       "      <th>release_year</th>\n",
       "      <th>budget_adj</th>\n",
       "      <th>revenue_adj</th>\n",
       "    </tr>\n",
       "  </thead>\n",
       "  <tbody>\n",
       "    <tr>\n",
       "      <th>0</th>\n",
       "      <td>135397.0</td>\n",
       "      <td>tt0369610</td>\n",
       "      <td>32.985763</td>\n",
       "      <td>1.498586e+07</td>\n",
       "      <td>4.893449e+07</td>\n",
       "      <td>Jurassic World</td>\n",
       "      <td>Chris Pratt|Bryce Dallas Howard|Irrfan Khan|Vi...</td>\n",
       "      <td>http://www.jurassicworld.com/</td>\n",
       "      <td>Colin Trevorrow</td>\n",
       "      <td>The park is open.</td>\n",
       "      <td>...</td>\n",
       "      <td>Twenty-two years after the events of Jurassic ...</td>\n",
       "      <td>124.0</td>\n",
       "      <td>Action|Adventure|Science Fiction|Thriller</td>\n",
       "      <td>Universal Studios|Amblin Entertainment|Legenda...</td>\n",
       "      <td>6/9/2015</td>\n",
       "      <td>5562.0</td>\n",
       "      <td>6.5</td>\n",
       "      <td>2015.0</td>\n",
       "      <td>137999939.3</td>\n",
       "      <td>4.483494e+07</td>\n",
       "    </tr>\n",
       "    <tr>\n",
       "      <th>674</th>\n",
       "      <td>53182.0</td>\n",
       "      <td>tt1253863</td>\n",
       "      <td>2.979181</td>\n",
       "      <td>1.498586e+07</td>\n",
       "      <td>4.893449e+07</td>\n",
       "      <td>300: Rise of an Empire</td>\n",
       "      <td>Sullivan Stapleton|Eva Green|Lena Headey|Calla...</td>\n",
       "      <td>http://www.300themovie.com/</td>\n",
       "      <td>Noam Murro</td>\n",
       "      <td>Seize your glory!</td>\n",
       "      <td>...</td>\n",
       "      <td>Based on Frank Miller's latest graphic novel X...</td>\n",
       "      <td>102.0</td>\n",
       "      <td>Action|War</td>\n",
       "      <td>Legendary Pictures|Hollywood Gang Productions|...</td>\n",
       "      <td>3/5/2014</td>\n",
       "      <td>1664.0</td>\n",
       "      <td>6.1</td>\n",
       "      <td>2014.0</td>\n",
       "      <td>101320015.6</td>\n",
       "      <td>4.483494e+07</td>\n",
       "    </tr>\n",
       "    <tr>\n",
       "      <th>663</th>\n",
       "      <td>82702.0</td>\n",
       "      <td>tt1646971</td>\n",
       "      <td>3.489106</td>\n",
       "      <td>1.498586e+07</td>\n",
       "      <td>4.893449e+07</td>\n",
       "      <td>How to Train Your Dragon 2</td>\n",
       "      <td>Jay Baruchel|Gerard Butler|Kristen Wiig|Jonah ...</td>\n",
       "      <td>http://www.howtotrainyourdragon.com/</td>\n",
       "      <td>Dean DeBlois</td>\n",
       "      <td>The training is over.</td>\n",
       "      <td>...</td>\n",
       "      <td>The thrilling second chapter of the epic How T...</td>\n",
       "      <td>102.0</td>\n",
       "      <td>Fantasy|Action|Adventure|Animation|Comedy</td>\n",
       "      <td>DreamWorks Animation|Mad Hatter Entertainment</td>\n",
       "      <td>6/12/2014</td>\n",
       "      <td>2152.0</td>\n",
       "      <td>7.7</td>\n",
       "      <td>2014.0</td>\n",
       "      <td>133558202.4</td>\n",
       "      <td>4.483494e+07</td>\n",
       "    </tr>\n",
       "    <tr>\n",
       "      <th>665</th>\n",
       "      <td>138103.0</td>\n",
       "      <td>tt2333784</td>\n",
       "      <td>3.346250</td>\n",
       "      <td>1.498586e+07</td>\n",
       "      <td>4.893449e+07</td>\n",
       "      <td>The Expendables 3</td>\n",
       "      <td>Sylvester Stallone|Jason Statham|Harrison Ford...</td>\n",
       "      <td>http://theexpendables3film.com/</td>\n",
       "      <td>Patrick Hughes</td>\n",
       "      <td>New team. New attitude. New mission.</td>\n",
       "      <td>...</td>\n",
       "      <td>Barney, Christmas and the rest of the team com...</td>\n",
       "      <td>127.0</td>\n",
       "      <td>Action|Adventure|Thriller</td>\n",
       "      <td>Davis-Films|Nu Image Films|LionsGate|Millenniu...</td>\n",
       "      <td>8/4/2014</td>\n",
       "      <td>1275.0</td>\n",
       "      <td>6.2</td>\n",
       "      <td>2014.0</td>\n",
       "      <td>82898194.57</td>\n",
       "      <td>4.483494e+07</td>\n",
       "    </tr>\n",
       "    <tr>\n",
       "      <th>141</th>\n",
       "      <td>328589.0</td>\n",
       "      <td>tt3722070</td>\n",
       "      <td>1.142518</td>\n",
       "      <td>6.000000e+06</td>\n",
       "      <td>4.893449e+07</td>\n",
       "      <td>The Lady in the Van</td>\n",
       "      <td>Maggie Smith|Alex Jennings|Frances de la Tour|...</td>\n",
       "      <td>http://www.bbc.co.uk/bbcfilms/film/the_lady_in...</td>\n",
       "      <td>Nicholas Hytner</td>\n",
       "      <td>A mostly true story</td>\n",
       "      <td>...</td>\n",
       "      <td>The true story of the relationship between Ala...</td>\n",
       "      <td>104.0</td>\n",
       "      <td>Comedy|Drama</td>\n",
       "      <td>BBC Films|TriStar Productions</td>\n",
       "      <td>11/13/2015</td>\n",
       "      <td>135.0</td>\n",
       "      <td>5.9</td>\n",
       "      <td>2015.0</td>\n",
       "      <td>5519997.571</td>\n",
       "      <td>4.483494e+07</td>\n",
       "    </tr>\n",
       "    <tr>\n",
       "      <th>...</th>\n",
       "      <td>...</td>\n",
       "      <td>...</td>\n",
       "      <td>...</td>\n",
       "      <td>...</td>\n",
       "      <td>...</td>\n",
       "      <td>...</td>\n",
       "      <td>...</td>\n",
       "      <td>...</td>\n",
       "      <td>...</td>\n",
       "      <td>...</td>\n",
       "      <td>...</td>\n",
       "      <td>...</td>\n",
       "      <td>...</td>\n",
       "      <td>...</td>\n",
       "      <td>...</td>\n",
       "      <td>...</td>\n",
       "      <td>...</td>\n",
       "      <td>...</td>\n",
       "      <td>...</td>\n",
       "      <td>...</td>\n",
       "      <td>...</td>\n",
       "    </tr>\n",
       "    <tr>\n",
       "      <th>609</th>\n",
       "      <td>321640.0</td>\n",
       "      <td>tt4299972</td>\n",
       "      <td>0.033378</td>\n",
       "      <td>0.000000e+00</td>\n",
       "      <td>0.000000e+00</td>\n",
       "      <td>The Jinx: The Life and Deaths of Robert Durst</td>\n",
       "      <td>Robert Durst|Andrew Jarecki|Marc Smerling|Zach...</td>\n",
       "      <td>not available</td>\n",
       "      <td>Andrew Jarecki</td>\n",
       "      <td>Four Decades. Three Murders. And One Very Rich...</td>\n",
       "      <td>...</td>\n",
       "      <td>Robert Durst, scion of one of New Yorkâ€™s bil...</td>\n",
       "      <td>240.0</td>\n",
       "      <td>Documentary</td>\n",
       "      <td>Blumhouse Productions|Hit the Ground Running F...</td>\n",
       "      <td>2/8/2015</td>\n",
       "      <td>72.0</td>\n",
       "      <td>8.4</td>\n",
       "      <td>2015.0</td>\n",
       "      <td>0.0</td>\n",
       "      <td>0.000000e+00</td>\n",
       "    </tr>\n",
       "    <tr>\n",
       "      <th>610</th>\n",
       "      <td>309919.0</td>\n",
       "      <td>tt1772261</td>\n",
       "      <td>0.056244</td>\n",
       "      <td>2.000000e+06</td>\n",
       "      <td>0.000000e+00</td>\n",
       "      <td>The Curse of Downers Grove</td>\n",
       "      <td>Bella Heathcote|Lucas Till|Helen Slater|Penelo...</td>\n",
       "      <td>not available</td>\n",
       "      <td>Derick Martini</td>\n",
       "      <td>High school can be murder.</td>\n",
       "      <td>...</td>\n",
       "      <td>The town of Downers Grove looks like your aver...</td>\n",
       "      <td>89.0</td>\n",
       "      <td>Thriller|Mystery|Horror|Drama</td>\n",
       "      <td>Myriad Pictures|AliBella Pictures|Bystander Fi...</td>\n",
       "      <td>8/21/2015</td>\n",
       "      <td>11.0</td>\n",
       "      <td>4.2</td>\n",
       "      <td>2015.0</td>\n",
       "      <td>1839999.19</td>\n",
       "      <td>0.000000e+00</td>\n",
       "    </tr>\n",
       "    <tr>\n",
       "      <th>611</th>\n",
       "      <td>303867.0</td>\n",
       "      <td>tt4171032</td>\n",
       "      <td>0.032678</td>\n",
       "      <td>0.000000e+00</td>\n",
       "      <td>0.000000e+00</td>\n",
       "      <td>World of Tomorrow</td>\n",
       "      <td>Julia Pott|Winona Mae</td>\n",
       "      <td>http://bitterfilms.com</td>\n",
       "      <td>Don Hertzfeldt</td>\n",
       "      <td>not available</td>\n",
       "      <td>...</td>\n",
       "      <td>A little girl is contacted by a mysterious woman.</td>\n",
       "      <td>17.0</td>\n",
       "      <td>Animation|Comedy|Science Fiction</td>\n",
       "      <td>Bitter Films</td>\n",
       "      <td>3/31/2015</td>\n",
       "      <td>47.0</td>\n",
       "      <td>8.2</td>\n",
       "      <td>2015.0</td>\n",
       "      <td>0.0</td>\n",
       "      <td>0.000000e+00</td>\n",
       "    </tr>\n",
       "    <tr>\n",
       "      <th>612</th>\n",
       "      <td>325365.0</td>\n",
       "      <td>tt1421361</td>\n",
       "      <td>0.030819</td>\n",
       "      <td>0.000000e+00</td>\n",
       "      <td>0.000000e+00</td>\n",
       "      <td>Dawg Fight</td>\n",
       "      <td>Dhafir Harris</td>\n",
       "      <td>http://www.dawg-fight.com</td>\n",
       "      <td>Billy Corben</td>\n",
       "      <td>not available</td>\n",
       "      <td>...</td>\n",
       "      <td>In a crime-plagued neighborhood near Miami, br...</td>\n",
       "      <td>109.0</td>\n",
       "      <td>Documentary</td>\n",
       "      <td>Rakontur</td>\n",
       "      <td>3/13/2015</td>\n",
       "      <td>17.0</td>\n",
       "      <td>6.4</td>\n",
       "      <td>2015.0</td>\n",
       "      <td>0.0</td>\n",
       "      <td>0.000000e+00</td>\n",
       "    </tr>\n",
       "    <tr>\n",
       "      <th>501</th>\n",
       "      <td>310491.0</td>\n",
       "      <td>tt3407428</td>\n",
       "      <td>0.156851</td>\n",
       "      <td>0.000000e+00</td>\n",
       "      <td>0.000000e+00</td>\n",
       "      <td>Glassland</td>\n",
       "      <td>Jack Reynor|Toni Collette|Will Poulter|Michael...</td>\n",
       "      <td>http://glasslandfilm.ie/</td>\n",
       "      <td>Gerard Barrett</td>\n",
       "      <td>not available</td>\n",
       "      <td>...</td>\n",
       "      <td>In a desperate attempt to reunite his broken f...</td>\n",
       "      <td>93.0</td>\n",
       "      <td>Drama</td>\n",
       "      <td>Element Pictures</td>\n",
       "      <td>4/17/2015</td>\n",
       "      <td>24.0</td>\n",
       "      <td>3.5</td>\n",
       "      <td>2015.0</td>\n",
       "      <td>0.0</td>\n",
       "      <td>0.000000e+00</td>\n",
       "    </tr>\n",
       "  </tbody>\n",
       "</table>\n",
       "<p>994 rows × 21 columns</p>\n",
       "</div>"
      ],
      "text/plain": [
       "           id    imdb_id  popularity        budget       revenue  \\\n",
       "0    135397.0  tt0369610   32.985763  1.498586e+07  4.893449e+07   \n",
       "674   53182.0  tt1253863    2.979181  1.498586e+07  4.893449e+07   \n",
       "663   82702.0  tt1646971    3.489106  1.498586e+07  4.893449e+07   \n",
       "665  138103.0  tt2333784    3.346250  1.498586e+07  4.893449e+07   \n",
       "141  328589.0  tt3722070    1.142518  6.000000e+06  4.893449e+07   \n",
       "..        ...        ...         ...           ...           ...   \n",
       "609  321640.0  tt4299972    0.033378  0.000000e+00  0.000000e+00   \n",
       "610  309919.0  tt1772261    0.056244  2.000000e+06  0.000000e+00   \n",
       "611  303867.0  tt4171032    0.032678  0.000000e+00  0.000000e+00   \n",
       "612  325365.0  tt1421361    0.030819  0.000000e+00  0.000000e+00   \n",
       "501  310491.0  tt3407428    0.156851  0.000000e+00  0.000000e+00   \n",
       "\n",
       "                                    original_title  \\\n",
       "0                                   Jurassic World   \n",
       "674                         300: Rise of an Empire   \n",
       "663                     How to Train Your Dragon 2   \n",
       "665                              The Expendables 3   \n",
       "141                            The Lady in the Van   \n",
       "..                                             ...   \n",
       "609  The Jinx: The Life and Deaths of Robert Durst   \n",
       "610                     The Curse of Downers Grove   \n",
       "611                              World of Tomorrow   \n",
       "612                                     Dawg Fight   \n",
       "501                                      Glassland   \n",
       "\n",
       "                                                  cast  \\\n",
       "0    Chris Pratt|Bryce Dallas Howard|Irrfan Khan|Vi...   \n",
       "674  Sullivan Stapleton|Eva Green|Lena Headey|Calla...   \n",
       "663  Jay Baruchel|Gerard Butler|Kristen Wiig|Jonah ...   \n",
       "665  Sylvester Stallone|Jason Statham|Harrison Ford...   \n",
       "141  Maggie Smith|Alex Jennings|Frances de la Tour|...   \n",
       "..                                                 ...   \n",
       "609  Robert Durst|Andrew Jarecki|Marc Smerling|Zach...   \n",
       "610  Bella Heathcote|Lucas Till|Helen Slater|Penelo...   \n",
       "611                              Julia Pott|Winona Mae   \n",
       "612                                      Dhafir Harris   \n",
       "501  Jack Reynor|Toni Collette|Will Poulter|Michael...   \n",
       "\n",
       "                                              homepage         director  \\\n",
       "0                        http://www.jurassicworld.com/  Colin Trevorrow   \n",
       "674                        http://www.300themovie.com/       Noam Murro   \n",
       "663               http://www.howtotrainyourdragon.com/     Dean DeBlois   \n",
       "665                    http://theexpendables3film.com/   Patrick Hughes   \n",
       "141  http://www.bbc.co.uk/bbcfilms/film/the_lady_in...  Nicholas Hytner   \n",
       "..                                                 ...              ...   \n",
       "609                                      not available   Andrew Jarecki   \n",
       "610                                      not available   Derick Martini   \n",
       "611                             http://bitterfilms.com   Don Hertzfeldt   \n",
       "612                          http://www.dawg-fight.com     Billy Corben   \n",
       "501                           http://glasslandfilm.ie/   Gerard Barrett   \n",
       "\n",
       "                                               tagline  ...  \\\n",
       "0                                    The park is open.  ...   \n",
       "674                                  Seize your glory!  ...   \n",
       "663                              The training is over.  ...   \n",
       "665               New team. New attitude. New mission.  ...   \n",
       "141                                A mostly true story  ...   \n",
       "..                                                 ...  ...   \n",
       "609  Four Decades. Three Murders. And One Very Rich...  ...   \n",
       "610                         High school can be murder.  ...   \n",
       "611                                      not available  ...   \n",
       "612                                      not available  ...   \n",
       "501                                      not available  ...   \n",
       "\n",
       "                                              overview runtime  \\\n",
       "0    Twenty-two years after the events of Jurassic ...   124.0   \n",
       "674  Based on Frank Miller's latest graphic novel X...   102.0   \n",
       "663  The thrilling second chapter of the epic How T...   102.0   \n",
       "665  Barney, Christmas and the rest of the team com...   127.0   \n",
       "141  The true story of the relationship between Ala...   104.0   \n",
       "..                                                 ...     ...   \n",
       "609  Robert Durst, scion of one of New Yorkâ€™s bil...   240.0   \n",
       "610  The town of Downers Grove looks like your aver...    89.0   \n",
       "611  A little girl is contacted by a mysterious woman.    17.0   \n",
       "612  In a crime-plagued neighborhood near Miami, br...   109.0   \n",
       "501  In a desperate attempt to reunite his broken f...    93.0   \n",
       "\n",
       "                                        genres  \\\n",
       "0    Action|Adventure|Science Fiction|Thriller   \n",
       "674                                 Action|War   \n",
       "663  Fantasy|Action|Adventure|Animation|Comedy   \n",
       "665                  Action|Adventure|Thriller   \n",
       "141                               Comedy|Drama   \n",
       "..                                         ...   \n",
       "609                                Documentary   \n",
       "610              Thriller|Mystery|Horror|Drama   \n",
       "611           Animation|Comedy|Science Fiction   \n",
       "612                                Documentary   \n",
       "501                                      Drama   \n",
       "\n",
       "                                  production_companies release_date  \\\n",
       "0    Universal Studios|Amblin Entertainment|Legenda...     6/9/2015   \n",
       "674  Legendary Pictures|Hollywood Gang Productions|...     3/5/2014   \n",
       "663      DreamWorks Animation|Mad Hatter Entertainment    6/12/2014   \n",
       "665  Davis-Films|Nu Image Films|LionsGate|Millenniu...     8/4/2014   \n",
       "141                      BBC Films|TriStar Productions   11/13/2015   \n",
       "..                                                 ...          ...   \n",
       "609  Blumhouse Productions|Hit the Ground Running F...     2/8/2015   \n",
       "610  Myriad Pictures|AliBella Pictures|Bystander Fi...    8/21/2015   \n",
       "611                                       Bitter Films    3/31/2015   \n",
       "612                                           Rakontur    3/13/2015   \n",
       "501                                   Element Pictures    4/17/2015   \n",
       "\n",
       "    vote_count  vote_average  release_year   budget_adj   revenue_adj  \n",
       "0       5562.0           6.5        2015.0  137999939.3  4.483494e+07  \n",
       "674     1664.0           6.1        2014.0  101320015.6  4.483494e+07  \n",
       "663     2152.0           7.7        2014.0  133558202.4  4.483494e+07  \n",
       "665     1275.0           6.2        2014.0  82898194.57  4.483494e+07  \n",
       "141      135.0           5.9        2015.0  5519997.571  4.483494e+07  \n",
       "..         ...           ...           ...          ...           ...  \n",
       "609       72.0           8.4        2015.0          0.0  0.000000e+00  \n",
       "610       11.0           4.2        2015.0   1839999.19  0.000000e+00  \n",
       "611       47.0           8.2        2015.0          0.0  0.000000e+00  \n",
       "612       17.0           6.4        2015.0          0.0  0.000000e+00  \n",
       "501       24.0           3.5        2015.0          0.0  0.000000e+00  \n",
       "\n",
       "[994 rows x 21 columns]"
      ]
     },
     "execution_count": 50,
     "metadata": {},
     "output_type": "execute_result"
    }
   ],
   "source": [
    "df.sort_values(['revenue'],ascending = False)"
   ]
  },
  {
   "cell_type": "markdown",
   "metadata": {},
   "source": [
    ">I think most of them are from drama type and they are between 2014 & 2015"
   ]
  },
  {
   "cell_type": "markdown",
   "metadata": {},
   "source": [
    "### Research Question 3  (How many movies were made in 2020 and have a rating greater than six  ?)"
   ]
  },
  {
   "cell_type": "code",
   "execution_count": 51,
   "metadata": {},
   "outputs": [
    {
     "data": {
      "text/plain": [
       "11"
      ]
     },
     "execution_count": 51,
     "metadata": {},
     "output_type": "execute_result"
    }
   ],
   "source": [
    "df[(df['vote_average']==6.0) & (df['release_year']==2014.0)]['original_title'].count()"
   ]
  },
  {
   "cell_type": "markdown",
   "metadata": {},
   "source": [
    "### Research Question 4  (what is the correlation between the variables?)"
   ]
  },
  {
   "cell_type": "code",
   "execution_count": 52,
   "metadata": {},
   "outputs": [
    {
     "data": {
      "image/png": "[encoded data removed]",
      "text/plain": [
       "<Figure size 720x504 with 2 Axes>"
      ]
     },
     "metadata": {
      "needs_background": "light"
     },
     "output_type": "display_data"
    }
   ],
   "source": [
    "plt.figure(figsize=(10,7))\n",
    "sns.heatmap(df.corr(),annot=True );"
   ]
  },
  {
   "cell_type": "markdown",
   "metadata": {},
   "source": [
    "### Research Question 5 (what is the distribution of the ratings?)"
   ]
  },
  {
   "cell_type": "code",
   "execution_count": 53,
   "metadata": {},
   "outputs": [
    {
     "data": {
      "image/png": "[encoded data removed]",
      "text/plain": [
       "<Figure size 432x288 with 1 Axes>"
      ]
     },
     "metadata": {
      "needs_background": "light"
     },
     "output_type": "display_data"
    }
   ],
   "source": [
    "plt.hist(df['vote_average'],color ='pink')\n",
    "plt.show()"
   ]
  },
  {
   "cell_type": "code",
   "execution_count": null,
   "metadata": {},
   "outputs": [],
   "source": []
  },
  {
   "cell_type": "markdown",
   "metadata": {},
   "source": [
    "### Research Question 6 (which movies have budget  more than the revenue? & what is the rate of it?)"
   ]
  },
  {
   "cell_type": "code",
   "execution_count": 54,
   "metadata": {},
   "outputs": [
    {
     "data": {
      "text/plain": [
       "48                            Wild Card\n",
       "67                             Survivor\n",
       "84                              Tracers\n",
       "87                               Maggie\n",
       "89                             Child 44\n",
       "                     ...               \n",
       "983                 The Grand Seduction\n",
       "985                                 Joe\n",
       "986              Let's Kill Ward's Wife\n",
       "994                           Free Fall\n",
       "996    Angry Video Game Nerd: The Movie\n",
       "Name: original_title, Length: 151, dtype: object"
      ]
     },
     "execution_count": 54,
     "metadata": {},
     "output_type": "execute_result"
    }
   ],
   "source": [
    "df[df.budget > df.revenue]['original_title']"
   ]
  },
  {
   "cell_type": "code",
   "execution_count": 55,
   "metadata": {},
   "outputs": [
    {
     "data": {
      "text/plain": [
       "718    8.0\n",
       "159    7.7\n",
       "291    7.5\n",
       "485    7.4\n",
       "570    7.4\n",
       "      ... \n",
       "688    4.0\n",
       "970    3.8\n",
       "184    3.6\n",
       "874    3.3\n",
       "586    3.3\n",
       "Name: vote_average, Length: 151, dtype: float64"
      ]
     },
     "execution_count": 55,
     "metadata": {},
     "output_type": "execute_result"
    }
   ],
   "source": [
    "df[df.budget > df.revenue]['vote_average'].sort_values(ascending=False)"
   ]
  },
  {
   "cell_type": "markdown",
   "metadata": {},
   "source": [
    "### Research Question 7 (what is the distribution of revenue)"
   ]
  },
  {
   "cell_type": "code",
   "execution_count": 56,
   "metadata": {},
   "outputs": [
    {
     "data": {
      "image/png": "[encoded data removed]",
      "text/plain": [
       "<Figure size 432x288 with 1 Axes>"
      ]
     },
     "metadata": {
      "needs_background": "light"
     },
     "output_type": "display_data"
    }
   ],
   "source": [
    "plt.hist(df['revenue'],color ='seagreen')\n",
    "plt.show()"
   ]
  },
  {
   "cell_type": "markdown",
   "metadata": {},
   "source": [
    "### Research Question 8 ( what is the correlation between release year & vote average? & which movie have the greateast rate?)"
   ]
  },
  {
   "cell_type": "code",
   "execution_count": 57,
   "metadata": {},
   "outputs": [
    {
     "data": {
      "text/plain": [
       "-0.050230383684987855"
      ]
     },
     "execution_count": 57,
     "metadata": {},
     "output_type": "execute_result"
    }
   ],
   "source": [
    "df['release_year'].corr(df['vote_average'])\n"
   ]
  },
  {
   "cell_type": "code",
   "execution_count": 58,
   "metadata": {},
   "outputs": [
    {
     "data": {
      "text/plain": [
       "8.9"
      ]
     },
     "execution_count": 58,
     "metadata": {},
     "output_type": "execute_result"
    }
   ],
   "source": [
    "max(df['vote_average'])"
   ]
  },
  {
   "cell_type": "code",
   "execution_count": 59,
   "metadata": {},
   "outputs": [
    {
     "data": {
      "text/plain": [
       "538    The Mask You Live In\n",
       "Name: original_title, dtype: object"
      ]
     },
     "execution_count": 59,
     "metadata": {},
     "output_type": "execute_result"
    }
   ],
   "source": [
    "df[df['vote_average']==8.9]['original_title']"
   ]
  },
  {
   "cell_type": "markdown",
   "metadata": {},
   "source": [
    "### Research Question 9 (Data visualization,visualize the distribution of genres for all titles)"
   ]
  },
  {
   "cell_type": "code",
   "execution_count": 60,
   "metadata": {},
   "outputs": [
    {
     "data": {
      "text/plain": [
       "<AxesSubplot:>"
      ]
     },
     "execution_count": 60,
     "metadata": {},
     "output_type": "execute_result"
    },
    {
     "data": {
      "image/png": "[encoded data removed]",
      "text/plain": [
       "<Figure size 1080x504 with 1 Axes>"
      ]
     },
     "metadata": {
      "needs_background": "light"
     },
     "output_type": "display_data"
    }
   ],
   "source": [
    "types=df['genres'].value_counts()\n",
    "types.plot(figsize=(15,7))"
   ]
  },
  {
   "cell_type": "markdown",
   "metadata": {},
   "source": [
    "### Research Question 10 ( In 2015, did netflix release more  drama movies or comedy?)"
   ]
  },
  {
   "cell_type": "code",
   "execution_count": 61,
   "metadata": {},
   "outputs": [
    {
     "data": {
      "text/plain": [
       "Drama                               59\n",
       "Documentary                         37\n",
       "Comedy                              36\n",
       "Horror                              29\n",
       "Drama|Comedy                        16\n",
       "                                    ..\n",
       "Western|Drama                        1\n",
       "Fantasy|Horror                       1\n",
       "Comedy|Music|War                     1\n",
       "Mystery|Science Fiction|Thriller     1\n",
       "Comedy|Drama|Family                  1\n",
       "Name: genres, Length: 272, dtype: int64"
      ]
     },
     "execution_count": 61,
     "metadata": {},
     "output_type": "execute_result"
    }
   ],
   "source": [
    "df[df['release_year']==2015]['genres'].value_counts()"
   ]
  },
  {
   "cell_type": "markdown",
   "metadata": {},
   "source": [
    "## Split the data to train & test"
   ]
  },
  {
   "cell_type": "code",
   "execution_count": 62,
   "metadata": {},
   "outputs": [],
   "source": [
    "x=df[['vote_count','popularity','budget']]\n",
    "y=df['revenue']\n",
    "x_train, x_test, y_train, y_test = train_test_split(x, y, test_size=0.2)"
   ]
  },
  {
   "cell_type": "markdown",
   "metadata": {},
   "source": [
    "## Multiple Regression Model"
   ]
  },
  {
   "cell_type": "code",
   "execution_count": 63,
   "metadata": {},
   "outputs": [
    {
     "name": "stdout",
     "output_type": "stream",
     "text": [
      "[41333507.84338939 21602553.44240539  1405263.3756851   1403652.98149758\n",
      "  1480334.20806869  1282691.54472318  5456914.1430385  32988943.97612133\n",
      " 29010511.08397131  1510411.19137588  3956551.42555549  1638208.06151134\n",
      "  1066963.30898441 40540986.1915445   1264243.50261388  1658273.10789807\n",
      " 46657156.94928781  1293869.07728426  5518996.16150096  1580687.15546462\n",
      "  1625325.73717418  3119707.30967384  2633441.86682465  9279750.96170477\n",
      "  1344041.52709574  1966310.05664116  1532792.85943816  1414263.83936466\n",
      " 11442521.6075387   6763834.54234603  2061392.86191705  1303450.83229389\n",
      " 21543671.66087574 55358867.10706656  1367507.77597037  1552993.46492711\n",
      " 57119486.21404003 43762023.20707624  1521231.3824992   1734268.34486545\n",
      " 22299146.82142885  1006846.39754355  1473783.77154406  1371581.23284791\n",
      " 33639594.31503967 40471888.05480865  1426888.04793603  1251766.2169948\n",
      " 38603632.90203552  3731316.27793746  6747548.51117268  1300994.36866163\n",
      " 11953300.55746712 36188346.22408758  1319195.9700822   3230177.30174826\n",
      " 27665199.86121254 32850020.05258542  2128989.81996962  1684015.91842459\n",
      " 53630019.55897968  1357381.94448289  1966215.75544017  1378320.85300166\n",
      " 12933501.43419134 33935357.42986521 32454480.4604025   1343253.81097201\n",
      " 41463947.10857516  1082202.2900547   2123715.0396395  29274019.01380582\n",
      "  1772511.74703658  1679229.94622824  3690084.50311653  1477058.38244975\n",
      "  1225363.68361161  2257221.82958335  1635743.4426864  35136946.33322412\n",
      "  1266607.1247925   1476047.69424327  1414022.95663304  1255682.28765448\n",
      "  1160049.07394138  1466364.46064951  1442579.50080808  1508353.46759878\n",
      " 31904223.16490193  2099275.28721593  1427942.28295409  1114954.82570656\n",
      "  5458581.08066484 55980821.25975025  1368001.47257692 60981555.08869646\n",
      "  1346253.03185092 32441581.43765358 24954612.26342393 16843135.15585858\n",
      "  2822417.49861139  1311947.49145691  1337593.44767546 26930265.43115294\n",
      "  1279974.76177019  1384546.00156602 29377606.32221043 36934396.73581489\n",
      "  4653216.17857439  9622786.20208382  1496121.01427454  6313317.2709823\n",
      "  2687686.21737875  5721593.55582392 36527567.51534604  4195919.85702696\n",
      "  2960896.47494601  1184385.71732263  1769821.71044161 53504555.83905979\n",
      "  1519137.96981012  1511156.38262616  1693262.99640548  1783861.08967646\n",
      " 17471700.0168076  27136920.65987499  1176557.56969508  1739075.85501476\n",
      "  1904475.44447139  2919559.30566876  2690730.2491397   1293013.39289949\n",
      "  1293313.85179576  1698887.44201673  3720526.42157628  1804945.67914136\n",
      "  4989685.46520824 13839374.50233885  1401408.41526068  2551707.5870943\n",
      "  1475116.21969605 26010344.22270092  4121322.63260281  6305089.83709723\n",
      " 41753785.72204266  1430197.66491037 13080148.0051953   1350152.02915511\n",
      "  2804391.41992913  9693406.82070448  1929624.33574731 10953244.95795573\n",
      "   960767.43868663 25834986.54915069  1568616.55295572  1714125.01850041\n",
      "  1528170.98806753  1263830.4683818   1517129.08080154  3056488.77799095\n",
      "  2346773.94231827 35828701.18008152  6851027.41456491  1535179.79867446\n",
      "  1649294.95327197  2166330.30325095 13125732.28371533  2130968.13441057\n",
      "  1041309.30209112  1467418.55515142 25269932.41582866  3037874.43150099\n",
      " 52812682.56120291  1508303.61379388   848301.73842645  1613574.52034502\n",
      "  2535518.84631375  8215712.28233215  1328933.24394779 49980946.91718153\n",
      "  2048426.03306191  1318804.52606205 32973052.4356436  35467442.77147274\n",
      "  1257352.90252491 35948485.87974437  3414905.10614682 36301447.96219573\n",
      " 20767769.71269736 28674386.44494246  3094263.27429447 25085161.44532005\n",
      " 37699200.44638365  1867909.19003557 28693014.12209876  1463964.46091206\n",
      " 25162174.33927465  1874418.95801649   178050.3705162 ]\n",
      "11     4.893449e+07\n",
      "274    1.646788e+06\n",
      "563    0.000000e+00\n",
      "463    0.000000e+00\n",
      "853    0.000000e+00\n",
      "           ...     \n",
      "77     4.893449e+07\n",
      "404    0.000000e+00\n",
      "168    1.600242e+07\n",
      "281    0.000000e+00\n",
      "709    0.000000e+00\n",
      "Name: revenue, Length: 199, dtype: float64\n"
     ]
    }
   ],
   "source": [
    "regr = linear_model.LinearRegression()\n",
    "fitt=regr.fit(x_train, y_train)\n",
    "predictrate1 = regr.predict(x_test)\n",
    "print(predictrate1)\n",
    "print(y_test)"
   ]
  },
  {
   "cell_type": "code",
   "execution_count": 64,
   "metadata": {},
   "outputs": [
    {
     "data": {
      "text/plain": [
       "0.6975712193624857"
      ]
     },
     "execution_count": 64,
     "metadata": {},
     "output_type": "execute_result"
    }
   ],
   "source": [
    "from sklearn.metrics import r2_score\n",
    "r2_score(y_test, predictrate1)"
   ]
  },
  {
   "cell_type": "markdown",
   "metadata": {},
   "source": [
    "> that is mean that the model is accurate by 70%"
   ]
  },
  {
   "cell_type": "markdown",
   "metadata": {},
   "source": [
    "<a id='conclusions'></a>\n",
    "## Conclusions\n",
    "\n",
    "1. From the analysis we found that the relation between popularity & the vote_average is the most stronge in this data as the correlation between them is equal 0.86 and the relation between vote_average and release year is very weak s the correlation between them is equal to -0.05\n",
    "2. the properties of movies with high revenue are the budget nearly equal to (1.498586e+07) and the release year is between 2014 & 2015 and about type of movies is drama\n",
    "3. The financial loss of the movie does not necessarily mean that it received a bad rating. Through data analysis, we saw a movie that cost more than its revenue, yet its rating is 8.0.\n",
    "4. From graphs the distribution of vote average is normal and the graph of revenue& genres are skewd to left\n",
    "5. and then the regression model between x , y is accurate by 70%\n"
   ]
  }
 ],
 "metadata": {
  "kernelspec": {
   "display_name": "Python 3 (ipykernel)",
   "language": "python",
   "name": "python3"
  },
  "language_info": {
   "codemirror_mode": {
    "name": "ipython",
    "version": 3
   },
   "file_extension": ".py",
   "mimetype": "text/x-python",
   "name": "python",
   "nbconvert_exporter": "python",
   "pygments_lexer": "ipython3",
   "version": "3.9.7"
  }
 },
 "nbformat": 4,
 "nbformat_minor": 2
}
